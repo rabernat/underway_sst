{
 "cells": [
  {
   "cell_type": "code",
   "execution_count": 2,
   "metadata": {
    "collapsed": true
   },
   "outputs": [],
   "source": [
    "import numpy as np\n",
    "import pandas as pd\n",
    "from scipy.io import loadmat\n",
    "%matplotlib inline"
   ]
  },
  {
   "cell_type": "code",
   "execution_count": 3,
   "metadata": {},
   "outputs": [],
   "source": [
    "import urllib\n",
    "import tempfile\n",
    "def loadmat_from_url(url):\n",
    "    \"\"\"\n",
    "    Load a matlab .mat file from a url via a temporary file\n",
    "    \"\"\"\n",
    "    response = urllib.request.urlopen(url)\n",
    "    data = response.read()\n",
    "    with tempfile.TemporaryFile() as fp:\n",
    "        fp.write(data)\n",
    "        fp.seek(0)\n",
    "        mat = loadmat(fp)\n",
    "    return mat"
   ]
  },
  {
   "cell_type": "code",
   "execution_count": 4,
   "metadata": {
    "collapsed": true
   },
   "outputs": [],
   "source": [
    "def clean_mat(mat):\n",
    "    \"\"\"\n",
    "    Remove non-array data, squeeze arrays, and fix dates\n",
    "    \"\"\"\n",
    "    newmat = {}\n",
    "    for k in mat:\n",
    "        if k == 'date':\n",
    "            newmat[k] = [pd.datetime(*row) for row in mat[k]]\n",
    "        else:\n",
    "            try:\n",
    "                newmat[k] = mat[k].squeeze()\n",
    "            except AttributeError:\n",
    "                # not an array\n",
    "                pass\n",
    "    return newmat"
   ]
  },
  {
   "cell_type": "code",
   "execution_count": null,
   "metadata": {},
   "outputs": [],
   "source": [
    "years = range(2001,2013)\n",
    "urls = [f\"http://oleander.bios.edu/files/Ol_TSG_{y}.mat\" for y in years]\n",
    "dataframes = [pd.DataFrame(clean_mat(loadmat_from_url(url))) for url in urls]\n",
    "df = pd.concat(dataframes)"
   ]
  },
  {
   "cell_type": "code",
   "execution_count": 7,
   "metadata": {},
   "outputs": [],
   "source": [
    "# save to hdf5 so we don't have to download again\n",
    "df.to_hdf('Ol_TSG_2001-2012.pandas.h5', 'Ol_TSG')"
   ]
  }
 ],
 "metadata": {
  "kernelspec": {
   "display_name": "Python 3",
   "language": "python",
   "name": "python3"
  },
  "language_info": {
   "codemirror_mode": {
    "name": "ipython",
    "version": 3
   },
   "file_extension": ".py",
   "mimetype": "text/x-python",
   "name": "python",
   "nbconvert_exporter": "python",
   "pygments_lexer": "ipython3",
   "version": "3.6.2"
  }
 },
 "nbformat": 4,
 "nbformat_minor": 2
}
